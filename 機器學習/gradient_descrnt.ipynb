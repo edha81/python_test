{
 "cells": [
  {
   "cell_type": "code",
   "execution_count": null,
   "metadata": {},
   "outputs": [],
   "source": [
    "#gradient descent 梯度下降 = 根據斜率改變參數 \n",
    "# (y-y_pred)^2 ->(y-(w*x+b))^2 因為b預設為0 -> (y-w*x)^2 ->微分後 -2x(y-w*x)  為切線斜率\n",
    "#w-斜率*學習率(learning rate)\n",
    "#(y-y_pred)^2 = (y-(w*x+b))^2 對X微分為2x(w*x+b-y) 對b微分為2(w*x+b-y)\n",
    "#更新w w-w方向斜率*學習率 B同理"
   ]
  },
  {
   "cell_type": "code",
   "execution_count": 1,
   "metadata": {},
   "outputs": [],
   "source": [
    "#簡單線性回歸 y =w*x+b\n",
    "import pandas as pd\n",
    "#url = 'https://raw.githubusercontent.com/GrandmaCan/ML/main/Resgression/Salary_Data.csv'\n",
    "#data = pd.read_csv(url) 網路下載\n",
    "data = pd.read_csv('Salary_Data.csv') #在相同資料夾\n",
    "\n",
    "x = data['YearsExperience']\n",
    "y = data['Salary']"
   ]
  },
  {
   "cell_type": "code",
   "execution_count": 9,
   "metadata": {},
   "outputs": [],
   "source": [
    "\n",
    "def compute_gradient(x,y,w,b):\n",
    "    #n= len(x) #計算幾筆資料\n",
    "    #w_gradient = (2*x*(w*x+b-y)).sum()/n #斜率總數加總除以總筆數\n",
    "    #b_gradient = (2*(w*x+b-y)).sum()/n\n",
    "    w_gradient = (2*x*(w*x+b-y)).mean() #直接計算平均\n",
    "    b_gradient = (2*(w*x+b-y)).mean()\n",
    "    return w_gradient,b_gradient\n",
    "     "
   ]
  },
  {
   "cell_type": "code",
   "execution_count": 10,
   "metadata": {},
   "outputs": [
    {
     "data": {
      "text/plain": [
       "(-118.41393939393939, -27.46666666666667)"
      ]
     },
     "execution_count": 10,
     "metadata": {},
     "output_type": "execute_result"
    }
   ],
   "source": [
    "compute_gradient(x,y,10,10)"
   ]
  }
 ],
 "metadata": {
  "kernelspec": {
   "display_name": "base",
   "language": "python",
   "name": "python3"
  },
  "language_info": {
   "codemirror_mode": {
    "name": "ipython",
    "version": 3
   },
   "file_extension": ".py",
   "mimetype": "text/x-python",
   "name": "python",
   "nbconvert_exporter": "python",
   "pygments_lexer": "ipython3",
   "version": "3.10.9"
  }
 },
 "nbformat": 4,
 "nbformat_minor": 2
}
